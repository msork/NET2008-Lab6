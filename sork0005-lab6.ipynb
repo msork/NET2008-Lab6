{
 "cells": [
  {
   "cell_type": "markdown",
   "id": "bc8864bd-4391-40f0-b9ea-849cc6f8369d",
   "metadata": {},
   "source": [
    "# NET2008 – DevOps – Fall 2024 - Lab 6\n"
   ]
  },
  {
   "cell_type": "code",
   "execution_count": 77,
   "id": "06aa4256-f322-4c72-b2c6-f169acf92c03",
   "metadata": {},
   "outputs": [
    {
     "name": "stdout",
     "output_type": "stream",
     "text": [
      "List of all branches:\n",
      "Branch(name=\"main\")\n",
      "\n",
      "List of all pull requests I have created:\n",
      "Closed:\n",
      "PullRequest(title=\"Added first line in text file\", number=1)\n",
      "Open:\n",
      "\n",
      "List of all commits:\n",
      "Commit(sha=\"f760630650f07582a1078ae93d28f013509fa3de\")\n",
      "Commit(sha=\"8388d424e99a28c72c2080a4e710298558361549\")\n",
      "Commit(sha=\"1ffedceed65d3d5ccdaebe671ce9927146c8c571\")\n",
      "Commit(sha=\"a54cd5cab9d124a510184c1cdc5610eb619eccbc\")\n",
      "Commit(sha=\"5251232ed06da5604893d739a0f343f57952c48a\")\n",
      "Commit(sha=\"cd2317b1797be83821bcd1e3de1d608abbd2ead8\")\n",
      "Commit(sha=\"690e4c7fdbb5984fcebe89490ccbdf5a2351fc14\")\n"
     ]
    }
   ],
   "source": [
    "from github import Github\n",
    "import yaml\n",
    "\n",
    "# credentials.yml contains your usr/repo and PAT created in step 11 above\n",
    "# So we load the data into a YML object\n",
    "data = yaml.safe_load(open('sork0005-credentials.yml'))\n",
    "\n",
    "# Extract the user and token from the data object\n",
    "user = data[\"creds\"][\"username\"]\n",
    "token = data[\"creds\"][\"token\"]\n",
    "\n",
    "g = Github(token)\n",
    "repo = g.get_repo(user)\n",
    "\n",
    "## Complete your tasks from here\n",
    "\n",
    "# 1. Get all branches you have created for your public repo\n",
    "branches = list(repo.get_branches())\n",
    "print(\"List of all branches:\")\n",
    "for branch in branches:\n",
    "    print(branch)\n",
    "\n",
    "# 2. Get all pull requests you have created\n",
    "pullsClosed = repo.get_pulls(state='closed', sort='created', base='main')\n",
    "pullsOpen = repo.get_pulls(state='open', sort='created', base='main')\n",
    "\n",
    "print(\"\\nList of all pull requests I have created:\")\n",
    "\n",
    "print(\"Closed:\")\n",
    "for pr in pullsClosed:\n",
    "   print(repo.get_pull(pr.number))\n",
    "    \n",
    "print(\"Open:\")\n",
    "for pr in pullsOpen:\n",
    "   print(repo.get_pull(pr.number))\n",
    "\n",
    "# 3. Get a list of commits you have created in your `main` branch\n",
    "commits = list(repo.get_commits(sha=\"main\"))\n",
    "print(\"\\nList of all commits:\")\n",
    "for commit in commits:\n",
    "    print(commit)"
   ]
  }
 ],
 "metadata": {
  "kernelspec": {
   "display_name": "Python 3 (ipykernel)",
   "language": "python",
   "name": "python3"
  },
  "language_info": {
   "codemirror_mode": {
    "name": "ipython",
    "version": 3
   },
   "file_extension": ".py",
   "mimetype": "text/x-python",
   "name": "python",
   "nbconvert_exporter": "python",
   "pygments_lexer": "ipython3",
   "version": "3.12.4"
  }
 },
 "nbformat": 4,
 "nbformat_minor": 5
}
