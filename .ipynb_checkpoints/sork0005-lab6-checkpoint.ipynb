{
 "cells": [
  {
   "cell_type": "markdown",
   "id": "bc8864bd-4391-40f0-b9ea-849cc6f8369d",
   "metadata": {},
   "source": [
    "# NET2008 – DevOps – Fall 2024 - Lab 6\n"
   ]
  },
  {
   "cell_type": "code",
   "execution_count": 4,
   "id": "06aa4256-f322-4c72-b2c6-f169acf92c03",
   "metadata": {},
   "outputs": [
    {
     "ename": "BadCredentialsException",
     "evalue": "401 {\"message\": \"Bad credentials\", \"documentation_url\": \"https://docs.github.com/rest\", \"status\": \"401\"}",
     "output_type": "error",
     "traceback": [
      "\u001b[0;31m---------------------------------------------------------------------------\u001b[0m",
      "\u001b[0;31mBadCredentialsException\u001b[0m                   Traceback (most recent call last)",
      "Cell \u001b[0;32mIn[4], line 15\u001b[0m\n\u001b[1;32m     12\u001b[0m token \u001b[38;5;241m=\u001b[39m data[\u001b[38;5;124m\"\u001b[39m\u001b[38;5;124mcreds\u001b[39m\u001b[38;5;124m\"\u001b[39m][\u001b[38;5;124m\"\u001b[39m\u001b[38;5;124mtoken\u001b[39m\u001b[38;5;124m\"\u001b[39m]\n\u001b[1;32m     14\u001b[0m g \u001b[38;5;241m=\u001b[39m Github(token)\n\u001b[0;32m---> 15\u001b[0m repo \u001b[38;5;241m=\u001b[39m g\u001b[38;5;241m.\u001b[39mget_repo(user)\n\u001b[1;32m     17\u001b[0m \u001b[38;5;66;03m## Complete your tasks from here\u001b[39;00m\n\u001b[1;32m     18\u001b[0m \n\u001b[1;32m     19\u001b[0m \u001b[38;5;66;03m# 1. Get all branches you have created for your public repo\u001b[39;00m\n\u001b[1;32m     20\u001b[0m branches \u001b[38;5;241m=\u001b[39m \u001b[38;5;28mlist\u001b[39m(repo\u001b[38;5;241m.\u001b[39mget_branches())\n",
      "File \u001b[0;32m~/anaconda3/lib/python3.12/site-packages/github/MainClass.py:434\u001b[0m, in \u001b[0;36mGithub.get_repo\u001b[0;34m(self, full_name_or_id, lazy)\u001b[0m\n\u001b[1;32m    432\u001b[0m \u001b[38;5;28;01mif\u001b[39;00m lazy:\n\u001b[1;32m    433\u001b[0m     \u001b[38;5;28;01mreturn\u001b[39;00m github\u001b[38;5;241m.\u001b[39mRepository\u001b[38;5;241m.\u001b[39mRepository(\u001b[38;5;28mself\u001b[39m\u001b[38;5;241m.\u001b[39m__requester, {}, {\u001b[38;5;124m\"\u001b[39m\u001b[38;5;124murl\u001b[39m\u001b[38;5;124m\"\u001b[39m: url}, completed\u001b[38;5;241m=\u001b[39m\u001b[38;5;28;01mFalse\u001b[39;00m)\n\u001b[0;32m--> 434\u001b[0m headers, data \u001b[38;5;241m=\u001b[39m \u001b[38;5;28mself\u001b[39m\u001b[38;5;241m.\u001b[39m__requester\u001b[38;5;241m.\u001b[39mrequestJsonAndCheck(\u001b[38;5;124m\"\u001b[39m\u001b[38;5;124mGET\u001b[39m\u001b[38;5;124m\"\u001b[39m, url)\n\u001b[1;32m    435\u001b[0m \u001b[38;5;28;01mreturn\u001b[39;00m github\u001b[38;5;241m.\u001b[39mRepository\u001b[38;5;241m.\u001b[39mRepository(\u001b[38;5;28mself\u001b[39m\u001b[38;5;241m.\u001b[39m__requester, headers, data, completed\u001b[38;5;241m=\u001b[39m\u001b[38;5;28;01mTrue\u001b[39;00m)\n",
      "File \u001b[0;32m~/anaconda3/lib/python3.12/site-packages/github/Requester.py:550\u001b[0m, in \u001b[0;36mRequester.requestJsonAndCheck\u001b[0;34m(self, verb, url, parameters, headers, input)\u001b[0m\n\u001b[1;32m    542\u001b[0m \u001b[38;5;28;01mdef\u001b[39;00m \u001b[38;5;21mrequestJsonAndCheck\u001b[39m(\n\u001b[1;32m    543\u001b[0m     \u001b[38;5;28mself\u001b[39m,\n\u001b[1;32m    544\u001b[0m     verb: \u001b[38;5;28mstr\u001b[39m,\n\u001b[0;32m   (...)\u001b[0m\n\u001b[1;32m    548\u001b[0m     \u001b[38;5;28minput\u001b[39m: Optional[Any] \u001b[38;5;241m=\u001b[39m \u001b[38;5;28;01mNone\u001b[39;00m,\n\u001b[1;32m    549\u001b[0m ) \u001b[38;5;241m-\u001b[39m\u001b[38;5;241m>\u001b[39m Tuple[Dict[\u001b[38;5;28mstr\u001b[39m, Any], Any]:\n\u001b[0;32m--> 550\u001b[0m     \u001b[38;5;28;01mreturn\u001b[39;00m \u001b[38;5;28mself\u001b[39m\u001b[38;5;241m.\u001b[39m__check(\u001b[38;5;241m*\u001b[39m\u001b[38;5;28mself\u001b[39m\u001b[38;5;241m.\u001b[39mrequestJson(verb, url, parameters, headers, \u001b[38;5;28minput\u001b[39m, \u001b[38;5;28mself\u001b[39m\u001b[38;5;241m.\u001b[39m__customConnection(url)))\n",
      "File \u001b[0;32m~/anaconda3/lib/python3.12/site-packages/github/Requester.py:611\u001b[0m, in \u001b[0;36mRequester.__check\u001b[0;34m(self, status, responseHeaders, output)\u001b[0m\n\u001b[1;32m    609\u001b[0m data \u001b[38;5;241m=\u001b[39m \u001b[38;5;28mself\u001b[39m\u001b[38;5;241m.\u001b[39m__structuredFromJson(output)\n\u001b[1;32m    610\u001b[0m \u001b[38;5;28;01mif\u001b[39;00m status \u001b[38;5;241m>\u001b[39m\u001b[38;5;241m=\u001b[39m \u001b[38;5;241m400\u001b[39m:\n\u001b[0;32m--> 611\u001b[0m     \u001b[38;5;28;01mraise\u001b[39;00m \u001b[38;5;28mself\u001b[39m\u001b[38;5;241m.\u001b[39mcreateException(status, responseHeaders, data)\n\u001b[1;32m    612\u001b[0m \u001b[38;5;28;01mreturn\u001b[39;00m responseHeaders, data\n",
      "\u001b[0;31mBadCredentialsException\u001b[0m: 401 {\"message\": \"Bad credentials\", \"documentation_url\": \"https://docs.github.com/rest\", \"status\": \"401\"}"
     ]
    }
   ],
   "source": [
    "from github import Auth\n",
    "from github import Github\n",
    "from github import GithubIntegration\n",
    "import yaml\n",
    "\n",
    "# credentials.yml contains your usr/repo and PAT created in step 11 above\n",
    "# So we load the data into a YML object\n",
    "data = yaml.safe_load(open('sork0005-credentials.yml'))\n",
    "\n",
    "# Extract the user and token from the data object\n",
    "user = data[\"creds\"][\"username\"]\n",
    "token = data[\"creds\"][\"token\"]\n",
    "\n",
    "g = Github(token)\n",
    "repo = g.get_repo(user)\n",
    "\n",
    "## Complete your tasks from here\n",
    "\n",
    "# 1. Get all branches you have created for your public repo\n",
    "branches = list(repo.get_branches())\n",
    "print(\"List of all branches:\")\n",
    "for branch in branches:\n",
    "    print(branch)\n",
    "\n",
    "# 2. Get all pull requests you have created\n",
    "pullsClosed = repo.get_pulls(state='closed', sort='created', base='main')\n",
    "pullsOpen = repo.get_pulls(state='open', sort='created', base='main')\n",
    "\n",
    "print(\"\\nList of all pull requests I have created:\")\n",
    "\n",
    "print(\"Closed:\")\n",
    "for pr in pullsClosed:\n",
    "   print(repo.get_pull(pr.number))\n",
    "    \n",
    "print(\"Open:\")\n",
    "for pr in pullsOpen:\n",
    "   print(repo.get_pull(pr.number))\n",
    "\n",
    "# 3. Get a list of commits you have created in your `main` branch\n",
    "commits = list(repo.get_commits(sha=\"main\"))\n",
    "print(\"\\nList of all commits:\")\n",
    "for commit in commits:\n",
    "    print(commit)"
   ]
  },
  {
   "cell_type": "code",
   "execution_count": null,
   "id": "6f835547-e92f-4b45-a17f-948532257343",
   "metadata": {},
   "outputs": [],
   "source": []
  },
  {
   "cell_type": "code",
   "execution_count": null,
   "id": "1f6384a2-d307-4570-8c78-e4650d93f186",
   "metadata": {},
   "outputs": [],
   "source": []
  }
 ],
 "metadata": {
  "kernelspec": {
   "display_name": "Python 3 (ipykernel)",
   "language": "python",
   "name": "python3"
  },
  "language_info": {
   "codemirror_mode": {
    "name": "ipython",
    "version": 3
   },
   "file_extension": ".py",
   "mimetype": "text/x-python",
   "name": "python",
   "nbconvert_exporter": "python",
   "pygments_lexer": "ipython3",
   "version": "3.12.4"
  }
 },
 "nbformat": 4,
 "nbformat_minor": 5
}
